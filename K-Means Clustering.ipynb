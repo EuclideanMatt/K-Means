{
 "cells": [
  {
   "cell_type": "code",
   "id": "initial_id",
   "metadata": {
    "collapsed": true,
    "ExecuteTime": {
     "end_time": "2024-10-03T22:21:00.683203Z",
     "start_time": "2024-10-03T22:20:58.753499Z"
    }
   },
   "source": [
    "import pandas as pd\n",
    "import numpy as np\n",
    "from matplotlib import pyplot as plt\n",
    "from sklearn.cluster import KMeans"
   ],
   "outputs": [],
   "execution_count": 1
  },
  {
   "metadata": {},
   "cell_type": "code",
   "outputs": [],
   "execution_count": null,
   "source": "",
   "id": "53b09ef31f086d8a"
  },
  {
   "metadata": {},
   "cell_type": "code",
   "outputs": [],
   "execution_count": null,
   "source": "### Demographic Clustering ###",
   "id": "71c9f83ef22e9949"
  },
  {
   "metadata": {},
   "cell_type": "code",
   "outputs": [],
   "execution_count": null,
   "source": [
    "\"\"\"\n",
    "In this section, I will perform a cluster analysis using the fields unrelated below:\n",
    "\n",
    "age\n",
    "gender\n",
    "engagement\n",
    "account.age\n",
    "\n",
    "\"\"\""
   ],
   "id": "3b449ad8d6ff01df"
  },
  {
   "metadata": {},
   "cell_type": "code",
   "outputs": [],
   "execution_count": null,
   "source": "",
   "id": "6e1347857a3b8749"
  },
  {
   "metadata": {},
   "cell_type": "code",
   "outputs": [],
   "execution_count": null,
   "source": "### Reading in the data ### ",
   "id": "7c78b17776158b46"
  },
  {
   "metadata": {
    "ExecuteTime": {
     "end_time": "2024-10-03T22:22:51.123487Z",
     "start_time": "2024-10-03T22:22:51.091463Z"
    }
   },
   "cell_type": "code",
   "source": "cluster_df = pd.read_csv(r\"C:\\Users\\Epicm\\Desktop\\data\\k_means\\washington_survey_data.txt\",sep=\"\\t\")",
   "id": "65edf1d26161fdc2",
   "outputs": [],
   "execution_count": 3
  },
  {
   "metadata": {
    "ExecuteTime": {
     "end_time": "2024-10-03T22:23:09.719592Z",
     "start_time": "2024-10-03T22:23:09.703283Z"
    }
   },
   "cell_type": "code",
   "source": [
    "cluster_df= cluster_df.replace('Highly Engaged', 'Highly_Engaged')\n",
    "cluster_df= cluster_df.replace('Not Engaged', 'Not_Engaged')"
   ],
   "id": "5ef397a2923a6746",
   "outputs": [],
   "execution_count": 4
  },
  {
   "metadata": {},
   "cell_type": "code",
   "outputs": [],
   "execution_count": null,
   "source": "",
   "id": "68ab986566dfd422"
  },
  {
   "metadata": {},
   "cell_type": "code",
   "outputs": [],
   "execution_count": null,
   "source": "### Convert the data to numeric ###",
   "id": "1e5859106bf2280a"
  },
  {
   "metadata": {
    "ExecuteTime": {
     "end_time": "2024-10-03T22:24:41.609606Z",
     "start_time": "2024-10-03T22:24:41.592801Z"
    }
   },
   "cell_type": "code",
   "source": "cluster_df.gender = cluster_df.gender.map(dict(other=0,male=1, female=2))",
   "id": "f958257ce171099d",
   "outputs": [],
   "execution_count": 5
  },
  {
   "metadata": {
    "ExecuteTime": {
     "end_time": "2024-10-03T22:24:57.463972Z",
     "start_time": "2024-10-03T22:24:57.458561Z"
    }
   },
   "cell_type": "code",
   "source": "cluster_df.engagement = cluster_df.engagement.map(dict(Not_Engaged=0, Engaged=1, Highly_Engaged=2))",
   "id": "7a4d5eceea8c616a",
   "outputs": [],
   "execution_count": 6
  },
  {
   "metadata": {},
   "cell_type": "code",
   "outputs": [],
   "execution_count": null,
   "source": "",
   "id": "63f6edf8c65b7081"
  },
  {
   "metadata": {},
   "cell_type": "code",
   "outputs": [],
   "execution_count": null,
   "source": "### Normalize the Data ### ",
   "id": "d2fe30dc72e6e1bf"
  },
  {
   "metadata": {
    "ExecuteTime": {
     "end_time": "2024-10-03T22:25:38.028023Z",
     "start_time": "2024-10-03T22:25:38.003633Z"
    }
   },
   "cell_type": "code",
   "source": "required_cols = ['age','gender', 'engagement', 'account.age']",
   "id": "acd0892fbcdb394f",
   "outputs": [],
   "execution_count": 7
  },
  {
   "metadata": {
    "ExecuteTime": {
     "end_time": "2024-10-03T22:25:53.335428Z",
     "start_time": "2024-10-03T22:25:53.324010Z"
    }
   },
   "cell_type": "code",
   "source": "numeric_df = cluster_df.loc[:,required_cols]",
   "id": "91bd859011c63b53",
   "outputs": [],
   "execution_count": 8
  },
  {
   "metadata": {},
   "cell_type": "code",
   "outputs": [],
   "execution_count": null,
   "source": "",
   "id": "4d3aeab3623f3e26"
  },
  {
   "metadata": {
    "ExecuteTime": {
     "end_time": "2024-10-03T22:25:58.177760Z",
     "start_time": "2024-10-03T22:25:58.161271Z"
    }
   },
   "cell_type": "code",
   "source": "numeric_df_normalized =(numeric_df-numeric_df.min())/(numeric_df.max()-numeric_df.min())",
   "id": "75317681ce174c3a",
   "outputs": [],
   "execution_count": 9
  },
  {
   "metadata": {},
   "cell_type": "code",
   "outputs": [],
   "execution_count": null,
   "source": "",
   "id": "12f980d89fc60143"
  },
  {
   "metadata": {},
   "cell_type": "code",
   "outputs": [],
   "execution_count": null,
   "source": "### Building our K Means Model ###",
   "id": "142d92a6b526647b"
  },
  {
   "metadata": {
    "ExecuteTime": {
     "end_time": "2024-10-03T22:28:10.938980Z",
     "start_time": "2024-10-03T22:28:10.927703Z"
    }
   },
   "cell_type": "code",
   "source": [
    "km_1 = KMeans(\n",
    "    n_clusters=3, init='random',\n",
    "    n_init=10, max_iter=300, \n",
    "    tol=1e-04, random_state=0\n",
    ")"
   ],
   "id": "800409720f7dd1f6",
   "outputs": [],
   "execution_count": 10
  },
  {
   "metadata": {
    "ExecuteTime": {
     "end_time": "2024-10-03T22:28:37.916224Z",
     "start_time": "2024-10-03T22:28:37.680258Z"
    }
   },
   "cell_type": "code",
   "source": "clustering_1 = km_1.fit_predict(numeric_df_normalized)",
   "id": "9fcaa491ad4f2be3",
   "outputs": [],
   "execution_count": 11
  },
  {
   "metadata": {
    "ExecuteTime": {
     "end_time": "2024-10-03T22:28:40.075378Z",
     "start_time": "2024-10-03T22:28:40.067478Z"
    }
   },
   "cell_type": "code",
   "source": "cluster_df['cluster'] = clustering_1",
   "id": "6071c7a86e607376",
   "outputs": [],
   "execution_count": 12
  },
  {
   "metadata": {},
   "cell_type": "code",
   "outputs": [],
   "execution_count": null,
   "source": "",
   "id": "115c877bcbb92206"
  },
  {
   "metadata": {},
   "cell_type": "code",
   "outputs": [],
   "execution_count": null,
   "source": "### Results ###",
   "id": "a2fabdb26b62ab8f"
  },
  {
   "metadata": {
    "ExecuteTime": {
     "end_time": "2024-10-03T22:29:22.871413Z",
     "start_time": "2024-10-03T22:29:22.760563Z"
    }
   },
   "cell_type": "code",
   "source": [
    "for cluster in set(clustering_1) :\n",
    "    print(f'Printing Results for Cluster {cluster}.\\n\\n')\n",
    "    \n",
    "    print(cluster_df.query(f\"cluster == {cluster}\"))\n",
    "    \n",
    "    print(\"\\n\\n\")"
   ],
   "id": "85a5e913dde4907d",
   "outputs": [
    {
     "name": "stdout",
     "output_type": "stream",
     "text": [
      "Printing Results for Cluster 0.\n",
      "\n",
      "\n",
      "         id  age  gender  engagement  mem.edu      zip channel  progressivism  \\\n",
      "1       348   66       2           2        3  98012.0  Branch       2.291667   \n",
      "4       358   50       1           2        4  98233.0  Branch      -0.500000   \n",
      "8       369   61       1           2        3  98133.0  Branch       0.500000   \n",
      "9       371   71       2           2        6      NaN  Branch       3.166667   \n",
      "10      372   73       2           2        6  98506.0  Branch       1.958333   \n",
      "...     ...  ...     ...         ...      ...      ...     ...            ...   \n",
      "2409  21255   45       2           2        4  98503.0  Branch       1.208333   \n",
      "2410  21767   25       2           2        5      NaN  Branch       0.375000   \n",
      "2411  21768   55       2           2        4  98579.0  Branch       1.916667   \n",
      "2412  21872   64       2           2        4  99205.0  Branch       1.458333   \n",
      "2415  22002   71       1           2        5  99224.0  Branch       0.125000   \n",
      "\n",
      "      harm  fair  ...          region  public.sector  sustainability  \\\n",
      "1     5.00  4.75  ...      W WA Metro            yes        6.000000   \n",
      "4     2.00  4.50  ...  W WA Non Metro            yes        2.833333   \n",
      "8     4.25  4.25  ...      W WA Metro            yes        2.500000   \n",
      "9     4.75  4.25  ...      W WA Metro            yes        5.333333   \n",
      "10    3.75  5.00  ...        Thurston            yes        4.833333   \n",
      "...    ...   ...  ...             ...            ...             ...   \n",
      "2409  4.50  4.25  ...        Thurston            yes        4.333333   \n",
      "2410  3.75  4.50  ...      W WA Metro            yes        4.666667   \n",
      "2411  3.75  4.25  ...        Thurston            yes        4.833333   \n",
      "2412  4.50  4.25  ...      E WA Metro            yes        6.000000   \n",
      "2415  3.75  5.00  ...      E WA Metro            yes        3.000000   \n",
      "\n",
      "      localism pub.greater.priv experience.more.important  teachers.underpaid  \\\n",
      "1         5.75                1                         4                   5   \n",
      "4         4.00                2                         4                   5   \n",
      "8         2.75                4                         5                   6   \n",
      "9         6.00                1                         3                   4   \n",
      "10        5.75                3                         4                   5   \n",
      "...        ...              ...                       ...                 ...   \n",
      "2409      5.00                2                         6                   6   \n",
      "2410      4.75                3                         4                   6   \n",
      "2411      4.00                4                         4                   6   \n",
      "2412      6.00                4                         4                   6   \n",
      "2415      5.00                3                         5                   1   \n",
      "\n",
      "                   main.focal.value  support.of.focal.value  cluster  \n",
      "1                       Environment               18.627830        0  \n",
      "4                         Education                4.400921        0  \n",
      "8                Human/Civil rights                4.400921        0  \n",
      "9                       Environment               82.125688        0  \n",
      "10                      Environment               32.595176        0  \n",
      "...                             ...                     ...      ...  \n",
      "2409                  Animal rights               12.344138        0  \n",
      "2410             Human/Civil rights               22.456294        0  \n",
      "2411                        Specify               19.613599        0  \n",
      "2412                   Homelessness               24.174964        0  \n",
      "2415  Health (i.e. cancer research)               45.183393        0  \n",
      "\n",
      "[849 rows x 24 columns]\n",
      "\n",
      "\n",
      "\n",
      "Printing Results for Cluster 1.\n",
      "\n",
      "\n",
      "         id  age  gender  engagement  mem.edu      zip channel  progressivism  \\\n",
      "0       346   56       0           1        2  98503.0  Branch      -0.083333   \n",
      "2       349   71       1           0        7  98506.0  Branch       1.000000   \n",
      "3       352   66       1           1        7      NaN  Branch       0.583333   \n",
      "6       367   49       1           1        4      NaN  Branch       1.791667   \n",
      "7       368   43       1           0        6  99163.0  Branch       2.500000   \n",
      "...     ...  ...     ...         ...      ...      ...     ...            ...   \n",
      "2391  19904   55       1           0        5  99163.0  Branch       0.666667   \n",
      "2401  20181   71       1           1        8  98103.0  Branch       0.791667   \n",
      "2413  21907   48       1           1        3  99006.0  Branch       0.166667   \n",
      "2414  21962   49       1           0        3  98596.0  Branch      -0.083333   \n",
      "2419  23167   33       1           1        6      NaN  Branch       0.208333   \n",
      "\n",
      "      harm  fair  ...          region  public.sector  sustainability  \\\n",
      "0     1.00  1.00  ...        Thurston            yes        2.333333   \n",
      "2     3.25  4.25  ...        Thurston            yes        5.166667   \n",
      "3     4.25  4.75  ...      W WA Metro             no        5.500000   \n",
      "6     4.25  4.50  ...      W WA Metro            yes        5.833333   \n",
      "7     4.75  4.25  ...  E WA Non Metro            yes        3.333333   \n",
      "...    ...   ...  ...             ...            ...             ...   \n",
      "2391  4.00  5.00  ...  E WA Non Metro            yes        1.166667   \n",
      "2401  3.25  4.00  ...      W WA Metro            yes        5.000000   \n",
      "2413  4.25  4.25  ...      E WA Metro            yes        2.333333   \n",
      "2414  4.25  4.25  ...  W WA Non Metro             no        4.000000   \n",
      "2419  5.00  4.75  ...        Thurston            yes        5.166667   \n",
      "\n",
      "      localism pub.greater.priv experience.more.important  teachers.underpaid  \\\n",
      "0         2.75                3                         3                   2   \n",
      "2         4.50                4                         3                   6   \n",
      "3         4.50                3                         3                   4   \n",
      "6         5.50                5                         2                   5   \n",
      "7         4.75                4                         3                   6   \n",
      "...        ...              ...                       ...                 ...   \n",
      "2391      3.00                1                         1                   1   \n",
      "2401      5.00                2                         3                   6   \n",
      "2413      4.00                3                         6                   4   \n",
      "2414      4.75                2                         4                   6   \n",
      "2419      6.00                6                         4                   6   \n",
      "\n",
      "                   main.focal.value  support.of.focal.value  cluster  \n",
      "0                      Homelessness                0.000000        1  \n",
      "2                    Hunger/Poverty               28.739986        1  \n",
      "3                         Education               18.055372        1  \n",
      "6                Human/Civil rights               58.088161        1  \n",
      "7                       Environment                9.126386        1  \n",
      "...                             ...                     ...      ...  \n",
      "2391                Law enforcement               34.502615        1  \n",
      "2401                      Education               15.350229        1  \n",
      "2413                Law enforcement               27.621298        1  \n",
      "2414  Health (i.e. cancer research)               12.019595        1  \n",
      "2419                      Education               73.189127        1  \n",
      "\n",
      "[669 rows x 24 columns]\n",
      "\n",
      "\n",
      "\n",
      "Printing Results for Cluster 2.\n",
      "\n",
      "\n",
      "         id  age  gender  engagement  mem.edu      zip channel  progressivism  \\\n",
      "5       361   40       2           1        3  98520.0  Branch       0.541667   \n",
      "13      375   79       2           1        2  98532.0  Branch       0.208333   \n",
      "18      426   29       2           1        3      NaN   Other      -1.208333   \n",
      "20      430   29       2           1        6  98938.0    Loan       1.375000   \n",
      "21      432   40       2           1        3      NaN  Branch       1.500000   \n",
      "...     ...  ...     ...         ...      ...      ...     ...            ...   \n",
      "2407  21145   26       2           0        6  99336.0  Branch       0.000000   \n",
      "2416  22070   83       2           1        6  99163.0  Branch       1.125000   \n",
      "2417  22163   93       2           1        5  98103.0  Branch       1.583333   \n",
      "2418  22830   45       2           0        4      NaN  Branch       1.208333   \n",
      "2420  23329   27       2           0        4  98502.0  Branch       1.666667   \n",
      "\n",
      "      harm  fair  ...          region  public.sector  sustainability  \\\n",
      "5     3.75  4.00  ...  W WA Non Metro            yes        3.500000   \n",
      "13    4.50  4.25  ...  W WA Non Metro             no        4.333333   \n",
      "18    3.75  1.50  ...  W WA Non Metro             no        4.000000   \n",
      "20    3.50  4.25  ...  E WA Non Metro             no        2.333333   \n",
      "21    5.00  3.50  ...      E WA Metro             no        5.500000   \n",
      "...    ...   ...  ...             ...            ...             ...   \n",
      "2407  4.00  4.00  ...  E WA Non Metro            yes        5.666667   \n",
      "2416  4.75  4.50  ...  E WA Non Metro            yes        3.666667   \n",
      "2417  4.75  4.25  ...      W WA Metro             no        5.166667   \n",
      "2418  4.00  3.75  ...      E WA Metro            yes        4.500000   \n",
      "2420  4.00  4.00  ...        Thurston             no        5.500000   \n",
      "\n",
      "      localism pub.greater.priv experience.more.important  teachers.underpaid  \\\n",
      "5         5.25                3                         5                   6   \n",
      "13        5.00                4                         3                   4   \n",
      "18        4.00                1                         4                   1   \n",
      "20        4.75                3                         4                   5   \n",
      "21        6.00                4                         4                   5   \n",
      "...        ...              ...                       ...                 ...   \n",
      "2407      6.00                1                         4                   6   \n",
      "2416      3.75                3                         4                   5   \n",
      "2417      5.75                4                         3                   6   \n",
      "2418      5.50                4                         5                   6   \n",
      "2420      5.25                3                         6                   4   \n",
      "\n",
      "      main.focal.value  support.of.focal.value  cluster  \n",
      "5         Homelessness               28.680137        2  \n",
      "13      Hunger/Poverty               16.335998        2  \n",
      "18     Law enforcement               14.837621        2  \n",
      "20      Hunger/Poverty               10.112156        2  \n",
      "21       Animal rights               35.071238        2  \n",
      "...                ...                     ...      ...  \n",
      "2407         Education                6.223843        2  \n",
      "2416    Domestic abuse               21.061463        2  \n",
      "2417         Education               22.968902        2  \n",
      "2418           Specify               37.564720        2  \n",
      "2420       Environment               18.055372        2  \n",
      "\n",
      "[903 rows x 24 columns]\n",
      "\n",
      "\n",
      "\n"
     ]
    }
   ],
   "execution_count": 13
  },
  {
   "metadata": {},
   "cell_type": "code",
   "outputs": [],
   "execution_count": null,
   "source": "",
   "id": "2851e2b71a4ca13d"
  },
  {
   "metadata": {},
   "cell_type": "code",
   "outputs": [],
   "execution_count": null,
   "source": "### Values Clustering ###",
   "id": "6578b672874f19b9"
  },
  {
   "metadata": {},
   "cell_type": "code",
   "outputs": [],
   "execution_count": null,
   "source": [
    "\"\"\"\n",
    "\n",
    "Similarly to the previous section, perform a cluster analysis, this time on the values questions:\n",
    "\n",
    "fair\n",
    "harm\n",
    "in.group\n",
    "authority\n",
    "purity\n",
    "public.sector\n",
    "sustainability\n",
    "localism\n",
    "After you’ve built your clusters, report the following information on each cluster:\n",
    "\n",
    "Predominant region\n",
    "Average age and account age\n",
    "Most common focal value\n",
    "Mean results on the questions of pub.greater.priv, experience.more.important, and teachers.underpaid.\n",
    "\n",
    "\n",
    "\"\"\""
   ],
   "id": "4cc0e546f5b5dc54"
  },
  {
   "metadata": {},
   "cell_type": "code",
   "outputs": [],
   "execution_count": null,
   "source": "",
   "id": "9bc8a16d3706edc8"
  },
  {
   "metadata": {},
   "cell_type": "code",
   "outputs": [],
   "execution_count": null,
   "source": "### Read in the data ### ",
   "id": "6c393f458c8488f7"
  },
  {
   "metadata": {
    "ExecuteTime": {
     "end_time": "2024-10-03T22:45:39.832066Z",
     "start_time": "2024-10-03T22:45:39.791944Z"
    }
   },
   "cell_type": "code",
   "source": [
    "cluster_df_2 = pd.read_csv(r\"C:\\Users\\Epicm\\Desktop\\data\\k_means\\washington_survey_data.txt\",sep=\"\\t\")\n",
    "cluster_df_2.rename(columns = {'public.sector':'public_sector'}, inplace = True)"
   ],
   "id": "2ceba3b8f98f2ccc",
   "outputs": [],
   "execution_count": 28
  },
  {
   "metadata": {},
   "cell_type": "code",
   "outputs": [],
   "execution_count": null,
   "source": "",
   "id": "cc5314d428f1985c"
  },
  {
   "metadata": {},
   "cell_type": "code",
   "outputs": [],
   "execution_count": null,
   "source": "### Convert Data to Numeric ### ",
   "id": "e61442ac75bab1fd"
  },
  {
   "metadata": {
    "ExecuteTime": {
     "end_time": "2024-10-03T22:45:41.357428Z",
     "start_time": "2024-10-03T22:45:41.331954Z"
    }
   },
   "cell_type": "code",
   "source": "cluster_df_2.public_sector = cluster_df_2.public_sector.map(dict(no=0,yes=1))",
   "id": "768e33dfbfd372c6",
   "outputs": [],
   "execution_count": 29
  },
  {
   "metadata": {},
   "cell_type": "code",
   "outputs": [],
   "execution_count": null,
   "source": "",
   "id": "a97f7175a2a1ccf0"
  },
  {
   "metadata": {},
   "cell_type": "code",
   "outputs": [],
   "execution_count": null,
   "source": "### Normalize our data ###",
   "id": "1861d42f9da893b8"
  },
  {
   "metadata": {
    "ExecuteTime": {
     "end_time": "2024-10-03T22:45:43.959641Z",
     "start_time": "2024-10-03T22:45:43.950671Z"
    }
   },
   "cell_type": "code",
   "source": "required_cols_2 = ['fair','harm', 'in.group', 'authority', 'purity', 'public_sector', 'sustainability', 'localism']\n",
   "id": "dce3ca6ef93788cf",
   "outputs": [],
   "execution_count": 30
  },
  {
   "metadata": {
    "ExecuteTime": {
     "end_time": "2024-10-03T22:45:45.258288Z",
     "start_time": "2024-10-03T22:45:45.244328Z"
    }
   },
   "cell_type": "code",
   "source": "numeric_df_2 = cluster_df_2.loc[:,required_cols_2]",
   "id": "95773e5a93122ce0",
   "outputs": [],
   "execution_count": 31
  },
  {
   "metadata": {
    "ExecuteTime": {
     "end_time": "2024-10-03T22:45:46.657255Z",
     "start_time": "2024-10-03T22:45:46.642481Z"
    }
   },
   "cell_type": "code",
   "source": "numeric_df_2_norm =(numeric_df_2-numeric_df_2.min())/(numeric_df_2.max()-numeric_df_2.min())",
   "id": "10657cb792562bc2",
   "outputs": [],
   "execution_count": 32
  },
  {
   "metadata": {},
   "cell_type": "code",
   "outputs": [],
   "execution_count": null,
   "source": "",
   "id": "4b71df43ac935c5a"
  },
  {
   "metadata": {},
   "cell_type": "code",
   "outputs": [],
   "execution_count": null,
   "source": "### Building K Means Model ###",
   "id": "46ec14951051baec"
  },
  {
   "metadata": {
    "ExecuteTime": {
     "end_time": "2024-10-03T22:45:49.075331Z",
     "start_time": "2024-10-03T22:45:49.062372Z"
    }
   },
   "cell_type": "code",
   "source": [
    "km_2 = KMeans(\n",
    "    n_clusters=3, init='random',\n",
    "    n_init=10, max_iter=300, \n",
    "    tol=1e-04, random_state=0\n",
    ")"
   ],
   "id": "30532f90ba855603",
   "outputs": [],
   "execution_count": 33
  },
  {
   "metadata": {
    "ExecuteTime": {
     "end_time": "2024-10-03T22:45:50.530688Z",
     "start_time": "2024-10-03T22:45:50.501402Z"
    }
   },
   "cell_type": "code",
   "source": "clustering_2 = km_2.fit_predict(numeric_df_2_norm)",
   "id": "1739d04f96f0f6c9",
   "outputs": [],
   "execution_count": 34
  },
  {
   "metadata": {
    "ExecuteTime": {
     "end_time": "2024-10-03T22:45:51.799177Z",
     "start_time": "2024-10-03T22:45:51.784284Z"
    }
   },
   "cell_type": "code",
   "source": "cluster_df_2['cluster'] = clustering_2",
   "id": "91ca94a1cc2ca37",
   "outputs": [],
   "execution_count": 35
  },
  {
   "metadata": {},
   "cell_type": "code",
   "outputs": [],
   "execution_count": null,
   "source": "",
   "id": "42654a2165ec210e"
  },
  {
   "metadata": {},
   "cell_type": "code",
   "outputs": [],
   "execution_count": null,
   "source": "### Results ###",
   "id": "a45bae1e5e64d742"
  },
  {
   "metadata": {
    "ExecuteTime": {
     "end_time": "2024-10-03T22:45:54.757202Z",
     "start_time": "2024-10-03T22:45:54.702204Z"
    }
   },
   "cell_type": "code",
   "source": [
    "for cluster in set(clustering_2) :\n",
    "    print(f'Printing Results for Cluster {cluster}.\\n\\n')\n",
    "    \n",
    "    print(cluster_df_2.query(f\"cluster == {cluster}\"))\n",
    "    \n",
    "    print(\"\\n\\n\")"
   ],
   "id": "df27d83ed51ecd86",
   "outputs": [
    {
     "name": "stdout",
     "output_type": "stream",
     "text": [
      "Printing Results for Cluster 0.\n",
      "\n",
      "\n",
      "         id  age  gender      engagement  mem.edu      zip channel  \\\n",
      "3       352   66    male         Engaged        7      NaN  Branch   \n",
      "13      375   79  female         Engaged        2  98532.0  Branch   \n",
      "14      399   60    male     Not Engaged        3  98001.0    Loan   \n",
      "17      425   31    male  Highly Engaged        3  98502.0  Branch   \n",
      "18      426   29  female         Engaged        3      NaN   Other   \n",
      "...     ...  ...     ...             ...      ...      ...     ...   \n",
      "2404  20945   61  female     Not Engaged        4  98028.0  Branch   \n",
      "2408  21209   65  female  Highly Engaged        4  98662.0  Branch   \n",
      "2414  21962   49    male     Not Engaged        3  98596.0  Branch   \n",
      "2417  22163   93  female         Engaged        5  98103.0  Branch   \n",
      "2420  23329   27  female     Not Engaged        4  98502.0  Branch   \n",
      "\n",
      "      progressivism  harm  fair  ...          region  public_sector  \\\n",
      "3          0.583333  4.25  4.75  ...      W WA Metro              0   \n",
      "13         0.208333  4.50  4.25  ...  W WA Non Metro              0   \n",
      "14         0.166667  3.75  3.25  ...      W WA Metro              0   \n",
      "17         0.208333  3.25  3.50  ...        Thurston              0   \n",
      "18        -1.208333  3.75  1.50  ...  W WA Non Metro              0   \n",
      "...             ...   ...   ...  ...             ...            ...   \n",
      "2404       1.083333  4.75  4.75  ...      W WA Metro              0   \n",
      "2408       0.208333  4.50  3.25  ...      W WA Metro              0   \n",
      "2414      -0.083333  4.25  4.25  ...  W WA Non Metro              0   \n",
      "2417       1.583333  4.75  4.25  ...      W WA Metro              0   \n",
      "2420       1.666667  4.00  4.00  ...        Thurston              0   \n",
      "\n",
      "      sustainability  localism pub.greater.priv  experience.more.important  \\\n",
      "3           5.500000      4.50                3                          3   \n",
      "13          4.333333      5.00                4                          3   \n",
      "14          4.000000      4.25                3                          4   \n",
      "17          5.333333      5.75                5                          5   \n",
      "18          4.000000      4.00                1                          4   \n",
      "...              ...       ...              ...                        ...   \n",
      "2404        4.500000      6.00                5                          3   \n",
      "2408        5.166667      5.25                1                          5   \n",
      "2414        4.000000      4.75                2                          4   \n",
      "2417        5.166667      5.75                4                          3   \n",
      "2420        5.500000      5.25                3                          6   \n",
      "\n",
      "      teachers.underpaid               main.focal.value  \\\n",
      "3                      4                      Education   \n",
      "13                     4                 Hunger/Poverty   \n",
      "14                     6                   Homelessness   \n",
      "17                     5             Human/Civil rights   \n",
      "18                     1                Law enforcement   \n",
      "...                  ...                            ...   \n",
      "2404                   5                      Education   \n",
      "2408                   4                  Animal rights   \n",
      "2414                   6  Health (i.e. cancer research)   \n",
      "2417                   6                      Education   \n",
      "2420                   4                    Environment   \n",
      "\n",
      "      support.of.focal.value  cluster  \n",
      "3                  18.055372        0  \n",
      "13                 16.335998        0  \n",
      "14                  4.400921        0  \n",
      "17                 42.814741        0  \n",
      "18                 14.837621        0  \n",
      "...                      ...      ...  \n",
      "2404                9.126386        0  \n",
      "2408               11.935077        0  \n",
      "2414               12.019595        0  \n",
      "2417               22.968902        0  \n",
      "2420               18.055372        0  \n",
      "\n",
      "[1020 rows x 24 columns]\n",
      "\n",
      "\n",
      "\n",
      "Printing Results for Cluster 1.\n",
      "\n",
      "\n",
      "         id  age  gender      engagement  mem.edu      zip channel  \\\n",
      "0       346   56   other         Engaged        2  98503.0  Branch   \n",
      "1       348   66  female  Highly Engaged        3  98012.0  Branch   \n",
      "2       349   71    male     Not Engaged        7  98506.0  Branch   \n",
      "6       367   49    male         Engaged        4      NaN  Branch   \n",
      "7       368   43    male     Not Engaged        6  99163.0  Branch   \n",
      "...     ...  ...     ...             ...      ...      ...     ...   \n",
      "2401  20181   71    male         Engaged        8  98103.0  Branch   \n",
      "2405  20958   56  female         Engaged        4  98404.0  Branch   \n",
      "2411  21768   55  female  Highly Engaged        4  98579.0  Branch   \n",
      "2412  21872   64  female  Highly Engaged        4  99205.0  Branch   \n",
      "2418  22830   45  female     Not Engaged        4      NaN  Branch   \n",
      "\n",
      "      progressivism  harm  fair  ...          region  public_sector  \\\n",
      "0         -0.083333  1.00  1.00  ...        Thurston              1   \n",
      "1          2.291667  5.00  4.75  ...      W WA Metro              1   \n",
      "2          1.000000  3.25  4.25  ...        Thurston              1   \n",
      "6          1.791667  4.25  4.50  ...      W WA Metro              1   \n",
      "7          2.500000  4.75  4.25  ...  E WA Non Metro              1   \n",
      "...             ...   ...   ...  ...             ...            ...   \n",
      "2401       0.791667  3.25  4.00  ...      W WA Metro              1   \n",
      "2405       1.458333  4.50  4.25  ...      W WA Metro              1   \n",
      "2411       1.916667  3.75  4.25  ...        Thurston              1   \n",
      "2412       1.458333  4.50  4.25  ...      E WA Metro              1   \n",
      "2418       1.208333  4.00  3.75  ...      E WA Metro              1   \n",
      "\n",
      "      sustainability  localism pub.greater.priv  experience.more.important  \\\n",
      "0           2.333333      2.75                3                          3   \n",
      "1           6.000000      5.75                1                          4   \n",
      "2           5.166667      4.50                4                          3   \n",
      "6           5.833333      5.50                5                          2   \n",
      "7           3.333333      4.75                4                          3   \n",
      "...              ...       ...              ...                        ...   \n",
      "2401        5.000000      5.00                2                          3   \n",
      "2405        6.000000      5.50                4                          4   \n",
      "2411        4.833333      4.00                4                          4   \n",
      "2412        6.000000      6.00                4                          4   \n",
      "2418        4.500000      5.50                4                          5   \n",
      "\n",
      "      teachers.underpaid               main.focal.value  \\\n",
      "0                      2                   Homelessness   \n",
      "1                      5                    Environment   \n",
      "2                      6                 Hunger/Poverty   \n",
      "6                      5             Human/Civil rights   \n",
      "7                      6                    Environment   \n",
      "...                  ...                            ...   \n",
      "2401                   6                      Education   \n",
      "2405                   4  Health (i.e. cancer research)   \n",
      "2411                   6                        Specify   \n",
      "2412                   6                   Homelessness   \n",
      "2418                   6                        Specify   \n",
      "\n",
      "      support.of.focal.value  cluster  \n",
      "0                   0.000000        1  \n",
      "1                  18.627830        1  \n",
      "2                  28.739986        1  \n",
      "6                  58.088161        1  \n",
      "7                   9.126386        1  \n",
      "...                      ...      ...  \n",
      "2401               15.350229        1  \n",
      "2405                9.126386        1  \n",
      "2411               19.613599        1  \n",
      "2412               24.174964        1  \n",
      "2418               37.564720        1  \n",
      "\n",
      "[629 rows x 24 columns]\n",
      "\n",
      "\n",
      "\n",
      "Printing Results for Cluster 2.\n",
      "\n",
      "\n",
      "         id  age  gender      engagement  mem.edu      zip channel  \\\n",
      "4       358   50    male  Highly Engaged        4  98233.0  Branch   \n",
      "5       361   40  female         Engaged        3  98520.0  Branch   \n",
      "8       369   61    male  Highly Engaged        3  98133.0  Branch   \n",
      "19      429   46    male  Highly Engaged        5      NaN  Branch   \n",
      "25      437   43  female     Not Engaged        4      NaN  Branch   \n",
      "...     ...  ...     ...             ...      ...      ...     ...   \n",
      "2410  21767   25  female  Highly Engaged        5      NaN  Branch   \n",
      "2413  21907   48    male         Engaged        3  99006.0  Branch   \n",
      "2415  22002   71    male  Highly Engaged        5  99224.0  Branch   \n",
      "2416  22070   83  female         Engaged        6  99163.0  Branch   \n",
      "2419  23167   33    male         Engaged        6      NaN  Branch   \n",
      "\n",
      "      progressivism  harm  fair  ...          region  public_sector  \\\n",
      "4         -0.500000  2.00  4.50  ...  W WA Non Metro              1   \n",
      "5          0.541667  3.75  4.00  ...  W WA Non Metro              1   \n",
      "8          0.500000  4.25  4.25  ...      W WA Metro              1   \n",
      "19         1.541667  4.50  3.75  ...        Thurston              1   \n",
      "25         0.625000  4.00  3.75  ...        Thurston              1   \n",
      "...             ...   ...   ...  ...             ...            ...   \n",
      "2410       0.375000  3.75  4.50  ...      W WA Metro              1   \n",
      "2413       0.166667  4.25  4.25  ...      E WA Metro              1   \n",
      "2415       0.125000  3.75  5.00  ...      E WA Metro              1   \n",
      "2416       1.125000  4.75  4.50  ...  E WA Non Metro              1   \n",
      "2419       0.208333  5.00  4.75  ...        Thurston              1   \n",
      "\n",
      "      sustainability  localism pub.greater.priv  experience.more.important  \\\n",
      "4           2.833333      4.00                2                          4   \n",
      "5           3.500000      5.25                3                          5   \n",
      "8           2.500000      2.75                4                          5   \n",
      "19          2.500000      4.25                3                          5   \n",
      "25          5.000000      6.00                4                          2   \n",
      "...              ...       ...              ...                        ...   \n",
      "2410        4.666667      4.75                3                          4   \n",
      "2413        2.333333      4.00                3                          6   \n",
      "2415        3.000000      5.00                3                          5   \n",
      "2416        3.666667      3.75                3                          4   \n",
      "2419        5.166667      6.00                6                          4   \n",
      "\n",
      "      teachers.underpaid               main.focal.value  \\\n",
      "4                      5                      Education   \n",
      "5                      6                   Homelessness   \n",
      "8                      6             Human/Civil rights   \n",
      "19                     3                  Animal rights   \n",
      "25                     3             Human/Civil rights   \n",
      "...                  ...                            ...   \n",
      "2410                   6             Human/Civil rights   \n",
      "2413                   4                Law enforcement   \n",
      "2415                   1  Health (i.e. cancer research)   \n",
      "2416                   5                 Domestic abuse   \n",
      "2419                   6                      Education   \n",
      "\n",
      "      support.of.focal.value  cluster  \n",
      "4                   4.400921        2  \n",
      "5                  28.680137        2  \n",
      "8                   4.400921        2  \n",
      "19                 49.038584        2  \n",
      "25                  4.400921        2  \n",
      "...                      ...      ...  \n",
      "2410               22.456294        2  \n",
      "2413               27.621298        2  \n",
      "2415               45.183393        2  \n",
      "2416               21.061463        2  \n",
      "2419               73.189127        2  \n",
      "\n",
      "[772 rows x 24 columns]\n",
      "\n",
      "\n",
      "\n"
     ]
    }
   ],
   "execution_count": 36
  },
  {
   "metadata": {},
   "cell_type": "code",
   "outputs": [],
   "execution_count": null,
   "source": "",
   "id": "d875aaf06a173f10"
  },
  {
   "metadata": {},
   "cell_type": "code",
   "outputs": [],
   "execution_count": null,
   "source": "### Predominant Region Per Cluster ### ",
   "id": "18602a2bec8dae5a"
  },
  {
   "metadata": {
    "ExecuteTime": {
     "end_time": "2024-10-03T22:46:43.735022Z",
     "start_time": "2024-10-03T22:46:43.718969Z"
    }
   },
   "cell_type": "code",
   "source": [
    "cluster_0 = cluster_df_2[cluster_df_2['cluster'] == 0]\n",
    "result_0 = cluster_0['region'].mode()\n",
    "print(result_0)"
   ],
   "id": "3abc01b9b7590e49",
   "outputs": [
    {
     "name": "stdout",
     "output_type": "stream",
     "text": [
      "0    W WA Metro\n",
      "Name: region, dtype: object\n"
     ]
    }
   ],
   "execution_count": 38
  },
  {
   "metadata": {},
   "cell_type": "code",
   "outputs": [],
   "execution_count": null,
   "source": "",
   "id": "98f1f6f3b330dcac"
  },
  {
   "metadata": {
    "ExecuteTime": {
     "end_time": "2024-10-03T22:46:51.636515Z",
     "start_time": "2024-10-03T22:46:51.615370Z"
    }
   },
   "cell_type": "code",
   "source": [
    "cluster_1 = cluster_df_2[cluster_df_2['cluster'] == 1]\n",
    "result_1 = cluster_1['region'].mode()\n",
    "print(result_1)"
   ],
   "id": "39ee2cf77fa8eb44",
   "outputs": [
    {
     "name": "stdout",
     "output_type": "stream",
     "text": [
      "0    W WA Metro\n",
      "Name: region, dtype: object\n"
     ]
    }
   ],
   "execution_count": 39
  },
  {
   "metadata": {},
   "cell_type": "code",
   "outputs": [],
   "execution_count": null,
   "source": "",
   "id": "34c64e00056fd929"
  },
  {
   "metadata": {
    "ExecuteTime": {
     "end_time": "2024-10-03T22:47:06.443200Z",
     "start_time": "2024-10-03T22:47:06.424866Z"
    }
   },
   "cell_type": "code",
   "source": [
    "cluster_2 = cluster_df_2[cluster_df_2['cluster'] == 2]\n",
    "result_2 = cluster_2['region'].mode()\n",
    "print(result_2)"
   ],
   "id": "9d9754b1503b1ed9",
   "outputs": [
    {
     "name": "stdout",
     "output_type": "stream",
     "text": [
      "0      Thurston\n",
      "1    W WA Metro\n",
      "Name: region, dtype: object\n"
     ]
    }
   ],
   "execution_count": 40
  },
  {
   "metadata": {},
   "cell_type": "code",
   "outputs": [],
   "execution_count": null,
   "source": "",
   "id": "a264b8d915573d75"
  },
  {
   "metadata": {},
   "cell_type": "code",
   "outputs": [],
   "execution_count": null,
   "source": "### Average Age Per Cluster ###",
   "id": "18119177859cff28"
  },
  {
   "metadata": {
    "ExecuteTime": {
     "end_time": "2024-10-03T22:47:53.954897Z",
     "start_time": "2024-10-03T22:47:53.933401Z"
    }
   },
   "cell_type": "code",
   "source": [
    "result_0 = cluster_0['age'].mean()\n",
    "result_0"
   ],
   "id": "b4d8f2b038c11b07",
   "outputs": [
    {
     "data": {
      "text/plain": [
       "45.41470588235294"
      ]
     },
     "execution_count": 41,
     "metadata": {},
     "output_type": "execute_result"
    }
   ],
   "execution_count": 41
  },
  {
   "metadata": {
    "ExecuteTime": {
     "end_time": "2024-10-03T22:48:03.889182Z",
     "start_time": "2024-10-03T22:48:03.872073Z"
    }
   },
   "cell_type": "code",
   "source": [
    "result_1 = cluster_1['age'].mean()\n",
    "result_1"
   ],
   "id": "c36d08fdac82afdc",
   "outputs": [
    {
     "data": {
      "text/plain": [
       "52.61685214626391"
      ]
     },
     "execution_count": 42,
     "metadata": {},
     "output_type": "execute_result"
    }
   ],
   "execution_count": 42
  },
  {
   "metadata": {
    "ExecuteTime": {
     "end_time": "2024-10-03T22:48:14.852942Z",
     "start_time": "2024-10-03T22:48:14.844370Z"
    }
   },
   "cell_type": "code",
   "source": [
    "result_2 = cluster_2['age'].mean()\n",
    "result_2"
   ],
   "id": "e7db9d46539ec15",
   "outputs": [
    {
     "data": {
      "text/plain": [
       "55.9779792746114"
      ]
     },
     "execution_count": 43,
     "metadata": {},
     "output_type": "execute_result"
    }
   ],
   "execution_count": 43
  },
  {
   "metadata": {},
   "cell_type": "code",
   "outputs": [],
   "execution_count": null,
   "source": "",
   "id": "3bf21845501f2f00"
  },
  {
   "metadata": {},
   "cell_type": "code",
   "outputs": [],
   "execution_count": null,
   "source": "### Most Common Focal Value Per Cluster ### ",
   "id": "1714fae832b8b8a4"
  },
  {
   "metadata": {
    "ExecuteTime": {
     "end_time": "2024-10-03T22:48:43.423375Z",
     "start_time": "2024-10-03T22:48:43.405085Z"
    }
   },
   "cell_type": "code",
   "source": [
    "result_0 = cluster_0['main.focal.value'].mode()\n",
    "result_0"
   ],
   "id": "2637aed5bf1d9d80",
   "outputs": [
    {
     "data": {
      "text/plain": [
       "0    Education\n",
       "Name: main.focal.value, dtype: object"
      ]
     },
     "execution_count": 44,
     "metadata": {},
     "output_type": "execute_result"
    }
   ],
   "execution_count": 44
  },
  {
   "metadata": {},
   "cell_type": "code",
   "outputs": [],
   "execution_count": null,
   "source": "",
   "id": "a1e21b952e051b1a"
  },
  {
   "metadata": {
    "ExecuteTime": {
     "end_time": "2024-10-03T22:48:52.205795Z",
     "start_time": "2024-10-03T22:48:52.189685Z"
    }
   },
   "cell_type": "code",
   "source": [
    "result_1 = cluster_1['main.focal.value'].mode()\n",
    "result_1"
   ],
   "id": "4db1551a74e1c7b4",
   "outputs": [
    {
     "data": {
      "text/plain": [
       "0    Environment\n",
       "Name: main.focal.value, dtype: object"
      ]
     },
     "execution_count": 45,
     "metadata": {},
     "output_type": "execute_result"
    }
   ],
   "execution_count": 45
  },
  {
   "metadata": {},
   "cell_type": "code",
   "outputs": [],
   "execution_count": null,
   "source": "",
   "id": "2d6c043988abf41d"
  },
  {
   "metadata": {
    "ExecuteTime": {
     "end_time": "2024-10-03T22:49:00.557912Z",
     "start_time": "2024-10-03T22:49:00.536938Z"
    }
   },
   "cell_type": "code",
   "source": [
    "result_2 = cluster_2['main.focal.value'].mode()\n",
    "result_2"
   ],
   "id": "3e9c379c6ca69eaa",
   "outputs": [
    {
     "data": {
      "text/plain": [
       "0    Health (i.e. cancer research)\n",
       "Name: main.focal.value, dtype: object"
      ]
     },
     "execution_count": 46,
     "metadata": {},
     "output_type": "execute_result"
    }
   ],
   "execution_count": 46
  },
  {
   "metadata": {},
   "cell_type": "code",
   "outputs": [],
   "execution_count": null,
   "source": "",
   "id": "4eb6d4b5de784b29"
  },
  {
   "metadata": {},
   "cell_type": "code",
   "outputs": [],
   "execution_count": null,
   "source": "",
   "id": "6abd4325814193a0"
  },
  {
   "metadata": {},
   "cell_type": "code",
   "outputs": [],
   "execution_count": null,
   "source": "",
   "id": "b18da7fa5be63ae3"
  },
  {
   "metadata": {},
   "cell_type": "code",
   "outputs": [],
   "execution_count": null,
   "source": "",
   "id": "a201f21e0c6497b4"
  },
  {
   "metadata": {},
   "cell_type": "code",
   "outputs": [],
   "execution_count": null,
   "source": "",
   "id": "86e697c51211ae58"
  },
  {
   "metadata": {},
   "cell_type": "code",
   "outputs": [],
   "execution_count": null,
   "source": "",
   "id": "96ddf4618a35bcda"
  },
  {
   "metadata": {},
   "cell_type": "code",
   "outputs": [],
   "execution_count": null,
   "source": "",
   "id": "e03ef82832760934"
  },
  {
   "metadata": {},
   "cell_type": "code",
   "outputs": [],
   "execution_count": null,
   "source": "",
   "id": "c2be663cd873e1d3"
  },
  {
   "metadata": {},
   "cell_type": "code",
   "outputs": [],
   "execution_count": null,
   "source": "",
   "id": "42a5d37183db0bec"
  },
  {
   "metadata": {},
   "cell_type": "code",
   "outputs": [],
   "execution_count": null,
   "source": "",
   "id": "2a40c78112d131b1"
  }
 ],
 "metadata": {
  "kernelspec": {
   "display_name": "Python 3",
   "language": "python",
   "name": "python3"
  },
  "language_info": {
   "codemirror_mode": {
    "name": "ipython",
    "version": 2
   },
   "file_extension": ".py",
   "mimetype": "text/x-python",
   "name": "python",
   "nbconvert_exporter": "python",
   "pygments_lexer": "ipython2",
   "version": "2.7.6"
  }
 },
 "nbformat": 4,
 "nbformat_minor": 5
}
